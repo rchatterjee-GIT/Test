{
    "cells": [
        {
            "cell_type": "markdown",
            "source": [
                "#Learning\r\n",
                "\r\n",
                "This notebook contains some simple *examples*"
            ],
            "metadata": {}
        },
        {
            "cell_type": "markdown",
            "source": [
                "##Example 1: Hello World"
            ],
            "metadata": {}
        },
        {
            "cell_type": "code",
            "execution_count": 1,
            "source": [
                "my_Name = \"Ramen\"\r\n",
                "hello_statement = \"Hello, \" + my_Name\r\n",
                "print(hello_statement, end=\"\\n\")"
            ],
            "outputs": [
                {
                    "output_type": "stream",
                    "name": "stdout",
                    "text": [
                        "Hello, Ramen\n"
                    ]
                }
            ],
            "metadata": {}
        },
        {
            "cell_type": "code",
            "execution_count": 6,
            "source": [
                "for j in range (1,5):\r\n",
                "    x = x + j\r\n",
                "    print(\"j={0} x={1}\".format(j,x))"
            ],
            "outputs": [
                {
                    "output_type": "stream",
                    "name": "stdout",
                    "text": [
                        "j=1 x=22\n",
                        "j=2 x=24\n",
                        "j=3 x=27\n",
                        "j=4 x=31\n"
                    ]
                }
            ],
            "metadata": {}
        },
        {
            "cell_type": "code",
            "execution_count": 48,
            "source": [
                "import pandas as pd\r\n",
                "import matplotlib.pyplot as plt\r\n",
                "import numpy as np\r\n",
                "\r\n",
                "##matplotlib inline\r\n",
                "\r\n",
                "\r\n",
                "\r\n",
                "df = pd.read_csv(\"D:\\OneDrive\\Documents\\Work\\LondonHousePrices.csv\")\r\n",
                "\r\n",
                "df.shape\r\n",
                "\r\n",
                "df.head(5)\r\n",
                "\r\n",
                "##df.isnull().values.any()\r\n",
                "\r\n"
            ],
            "outputs": [
                {
                    "output_type": "execute_result",
                    "data": {
                        "text/html": [
                            "<div>\n",
                            "<style scoped>\n",
                            "    .dataframe tbody tr th:only-of-type {\n",
                            "        vertical-align: middle;\n",
                            "    }\n",
                            "\n",
                            "    .dataframe tbody tr th {\n",
                            "        vertical-align: top;\n",
                            "    }\n",
                            "\n",
                            "    .dataframe thead th {\n",
                            "        text-align: right;\n",
                            "    }\n",
                            "</style>\n",
                            "<table border=\"1\" class=\"dataframe\">\n",
                            "  <thead>\n",
                            "    <tr style=\"text-align: right;\">\n",
                            "      <th></th>\n",
                            "      <th>Year</th>\n",
                            "      <th>Month</th>\n",
                            "      <th>Detached</th>\n",
                            "      <th>Semi Detached</th>\n",
                            "      <th>Terraced</th>\n",
                            "      <th>Flat</th>\n",
                            "    </tr>\n",
                            "  </thead>\n",
                            "  <tbody>\n",
                            "    <tr>\n",
                            "      <td>0</td>\n",
                            "      <td>1995</td>\n",
                            "      <td>Jan</td>\n",
                            "      <td>161,449</td>\n",
                            "      <td>95,898</td>\n",
                            "      <td>73,706</td>\n",
                            "      <td>64,619</td>\n",
                            "    </tr>\n",
                            "    <tr>\n",
                            "      <td>1</td>\n",
                            "      <td>1995</td>\n",
                            "      <td>Feb</td>\n",
                            "      <td>157,449</td>\n",
                            "      <td>96,084</td>\n",
                            "      <td>73,757</td>\n",
                            "      <td>60,359</td>\n",
                            "    </tr>\n",
                            "    <tr>\n",
                            "      <td>2</td>\n",
                            "      <td>1995</td>\n",
                            "      <td>Mar</td>\n",
                            "      <td>156,090</td>\n",
                            "      <td>94,981</td>\n",
                            "      <td>73,571</td>\n",
                            "      <td>64,186</td>\n",
                            "    </tr>\n",
                            "    <tr>\n",
                            "      <td>3</td>\n",
                            "      <td>1995</td>\n",
                            "      <td>Apr</td>\n",
                            "      <td>156,932</td>\n",
                            "      <td>95,193</td>\n",
                            "      <td>73,990</td>\n",
                            "      <td>65,099</td>\n",
                            "    </tr>\n",
                            "    <tr>\n",
                            "      <td>4</td>\n",
                            "      <td>1995</td>\n",
                            "      <td>May</td>\n",
                            "      <td>158,778</td>\n",
                            "      <td>96,727</td>\n",
                            "      <td>75,063</td>\n",
                            "      <td>65,718</td>\n",
                            "    </tr>\n",
                            "  </tbody>\n",
                            "</table>\n",
                            "</div>"
                        ],
                        "text/plain": [
                            "   Year Month Detached Semi Detached Terraced    Flat\n",
                            "0  1995   Jan  161,449        95,898   73,706  64,619\n",
                            "1  1995   Feb  157,449        96,084   73,757  60,359\n",
                            "2  1995   Mar  156,090        94,981   73,571  64,186\n",
                            "3  1995   Apr  156,932        95,193   73,990  65,099\n",
                            "4  1995   May  158,778        96,727   75,063  65,718"
                        ]
                    },
                    "metadata": {},
                    "execution_count": 48
                }
            ],
            "metadata": {}
        },
        {
            "cell_type": "code",
            "execution_count": 47,
            "source": [
                "##%matplotlib inline\r\n",
                "\r\n",
                "def plot_corr(df, size = 6):\r\n",
                "\r\n",
                "    corr = df.corr()\r\n",
                "    fig, ax = plt.subplots(figsize =(size, size))\r\n",
                "    ax.matshow(corr)\r\n",
                "    plt.xticks(range(len(corr.columns)),corr.columns)\r\n",
                "    plt.yticks(range(len(corr.columns)),corr.columns)"
            ],
            "outputs": [],
            "metadata": {}
        },
        {
            "cell_type": "code",
            "execution_count": 46,
            "source": [
                "plot_corr(df)\r\n"
            ],
            "outputs": [
                {
                    "output_type": "display_data",
                    "data": {
                        "image/png": "[encoded data removed]",
                        "image/svg+xml": "<?xml version=\"1.0\" encoding=\"utf-8\" standalone=\"no\"?>\r\n<!DOCTYPE svg PUBLIC \"-//W3C//DTD SVG 1.1//EN\"\r\n  \"http://www.w3.org/Graphics/SVG/1.1/DTD/svg11.dtd\">\r\n<!-- Created with matplotlib (https://matplotlib.org/) -->\r\n<svg height=\"360.738125pt\" version=\"1.1\" viewBox=\"0 0 370.039687 360.738125\" width=\"370.039687pt\" xmlns=\"http://www.w3.org/2000/svg\" xmlns:xlink=\"http://www.w3.org/1999/xlink\">\r\n <defs>\r\n  <style type=\"text/css\">\r\n*{stroke-linecap:butt;stroke-linejoin:round;}\r\n  </style>\r\n </defs>\r\n <g id=\"figure_1\">\r\n  <g id=\"patch_1\">\r\n   <path d=\"M 0 360.738125 \r\nL 370.039687 360.738125 \r\nL 370.039687 0 \r\nL 0 0 \r\nz\r\n\" style=\"fill:none;\"/>\r\n  </g>\r\n  <g id=\"axes_1\">\r\n   <g id=\"patch_2\">\r\n    <path d=\"M 36.679688 350.038125 \r\nL 362.839688 350.038125 \r\nL 362.839688 23.878125 \r\nL 36.679688 23.878125 \r\nz\r\n\" style=\"fill:#ffffff;\"/>\r\n   </g>\r\n   <g clip-path=\"url(#p2a57be3267)\">\r\n    <image height=\"327\" id=\"image523256266a\" transform=\"scale(1 -1)translate(0 -327)\" width=\"327\" x=\"36.679688\" xlink:href=\"data:image/png;base64,\r\niVBORw0KGgoAAAANSUhEUgAAAUcAAAFHCAYAAAAySY5rAAAABHNCSVQICAgIfAhkiAAABCJJREFUeJzt1DERwCAAwEBAGxLq30o7c5edDv8KMmXu+bwDgMO6HQDwR+YIEMwRIJgjQDBHgGCOAMEcAYI5AgRzBAjmCBDMESCYI0AwR4BgjgDBHAGCOQIEcwQI5ggQzBEgmCNAMEeAYI4AwRwBgjkCBHMECOYIEMwRIJgjQDBHgGCOAMEcAYI5AgRzBAjmCBDMESCYI0AwR4BgjgDBHAGCOQIEcwQI5ggQzBEgmCNAMEeAYI4AwRwBgjkCBHMECOYIEMwRIJgjQDBHgGCOAMEcAYI5AgRzBAjmCBDMESCYI0AwR4BgjgDBHAGCOQIEcwQI5ggQzBEgmCNAMEeAYI4AwRwBgjkCBHMECOYIEMwRIJgjQDBHgGCOAMEcAYI5AgRzBAjmCBDMESCYI0AwR4BgjgDBHAGCOQIEcwQI5ggQzBEgmCNAMEeAYI4AwRwBgjkCBHMECOYIEMwRIJgjQDBHgGCOAMEcAYI5AgRzBAjmCBDMESCYI0AwR4BgjgDBHAGCOQIEcwQI5ggQzBEgmCNAMEeAYI4AwRwBgjkCBHMECOYIEMwRIJgjQDBHgGCOAMEcAYI5AgRzBAjmCBDMESCYI0AwR4BgjgDBHAGCOQIEcwQI5ggQzBEgmCNAMEeAYI4AwRwBgjkCBHMECOYIEMwRIJgjQDBHgGCOAMEcAYI5AgRzBAjmCBDMESCYI0AwR4BgjgDBHAGCOQIEcwQI5ggQzBEgmCNAMEeAYI4AwRwBgjkCBHMECOYIEMwRIJgjQDBHgGCOAMEcAYI5AgRzBAjmCBDMESCYI0AwR4BgjgDBHAGCOQIEcwQI5ggQzBEgmCNAMEeAYI4AwRwBgjkCBHMECOYIEMwRIJgjQDBHgGCOAMEcAYI5AgRzBAjmCBDMESCYI0AwR4BgjgDBHAGCOQIEcwQI5ggQzBEgmCNAMEeAYI4AwRwBgjkCBHMECOYIEMwRIJgjQDBHgGCOAMEcAYI5AgRzBAjmCBDMESCYI0AwR4BgjgDBHAGCOQIEcwQI5ggQzBEgmCNAMEeAYI4AwRwBgjkCBHMECOYIEMwRIJgjQDBHgGCOAMEcAYI5AgRzBAjmCBDMESCYI0AwR4BgjgDBHAGCOQIEcwQI5ggQzBEgmCNAMEeAYI4AwRwBgjkCBHMECOYIEMwRIJgjQDBHgGCOAMEcAYI5AgRzBAjmCBDMESCYI0AwR4BgjgDBHAGCOQIEcwQI5ggQzBEgmCNAMEeAYI4AwRwBgjkCBHMECOYIEMwRIJgjQDBHgGCOAMEcAYI5AgRzBAjmCBDMESCYI0AwR4BgjgDBHAGCOQIEcwQI5ggQzBEgmCNAMEeAYI4AwRwBgjkCBHMECOYIEMwRIJgjQDBHgGCOAMEcAYI5AgRzBAjmCBDMESCYI0AwR4BgjgDhAzQaBCYpSpOnAAAAAElFTkSuQmCC\" y=\"-23.038125\"/>\r\n   </g>\r\n   <g id=\"matplotlib.axis_1\">\r\n    <g id=\"xtick_1\">\r\n     <g id=\"line2d_1\">\r\n      <defs>\r\n       <path d=\"M 0 0 \r\nL 0 3.5 \r\n\" id=\"m1510599279\" style=\"stroke:#000000;stroke-width:0.8;\"/>\r\n      </defs>\r\n      <g>\r\n       <use style=\"stroke:#000000;stroke-width:0.8;\" x=\"199.759688\" xlink:href=\"#m1510599279\" y=\"350.038125\"/>\r\n      </g>\r\n     </g>\r\n     <g id=\"line2d_2\">\r\n      <defs>\r\n       <path d=\"M 0 0 \r\nL 0 -3.5 \r\n\" id=\"m5649fd988d\" style=\"stroke:#000000;stroke-width:0.8;\"/>\r\n      </defs>\r\n      <g>\r\n       <use style=\"stroke:#000000;stroke-width:0.8;\" x=\"199.759688\" xlink:href=\"#m5649fd988d\" y=\"23.878125\"/>\r\n      </g>\r\n     </g>\r\n     <g id=\"text_1\">\r\n      <!-- Year -->\r\n      <defs>\r\n       <path d=\"M -0.203125 72.90625 \r\nL 10.40625 72.90625 \r\nL 30.609375 42.921875 \r\nL 50.6875 72.90625 \r\nL 61.28125 72.90625 \r\nL 35.5 34.71875 \r\nL 35.5 0 \r\nL 25.59375 0 \r\nL 25.59375 34.71875 \r\nz\r\n\" id=\"DejaVuSans-89\"/>\r\n       <path d=\"M 56.203125 29.59375 \r\nL 56.203125 25.203125 \r\nL 14.890625 25.203125 \r\nQ 15.484375 15.921875 20.484375 11.0625 \r\nQ 25.484375 6.203125 34.421875 6.203125 \r\nQ 39.59375 6.203125 44.453125 7.46875 \r\nQ 49.3125 8.734375 54.109375 11.28125 \r\nL 54.109375 2.78125 \r\nQ 49.265625 0.734375 44.1875 -0.34375 \r\nQ 39.109375 -1.421875 33.890625 -1.421875 \r\nQ 20.796875 -1.421875 13.15625 6.1875 \r\nQ 5.515625 13.8125 5.515625 26.8125 \r\nQ 5.515625 40.234375 12.765625 48.109375 \r\nQ 20.015625 56 32.328125 56 \r\nQ 43.359375 56 49.78125 48.890625 \r\nQ 56.203125 41.796875 56.203125 29.59375 \r\nz\r\nM 47.21875 32.234375 \r\nQ 47.125 39.59375 43.09375 43.984375 \r\nQ 39.0625 48.390625 32.421875 48.390625 \r\nQ 24.90625 48.390625 20.390625 44.140625 \r\nQ 15.875 39.890625 15.1875 32.171875 \r\nz\r\n\" id=\"DejaVuSans-101\"/>\r\n       <path d=\"M 34.28125 27.484375 \r\nQ 23.390625 27.484375 19.1875 25 \r\nQ 14.984375 22.515625 14.984375 16.5 \r\nQ 14.984375 11.71875 18.140625 8.90625 \r\nQ 21.296875 6.109375 26.703125 6.109375 \r\nQ 34.1875 6.109375 38.703125 11.40625 \r\nQ 43.21875 16.703125 43.21875 25.484375 \r\nL 43.21875 27.484375 \r\nz\r\nM 52.203125 31.203125 \r\nL 52.203125 0 \r\nL 43.21875 0 \r\nL 43.21875 8.296875 \r\nQ 40.140625 3.328125 35.546875 0.953125 \r\nQ 30.953125 -1.421875 24.3125 -1.421875 \r\nQ 15.921875 -1.421875 10.953125 3.296875 \r\nQ 6 8.015625 6 15.921875 \r\nQ 6 25.140625 12.171875 29.828125 \r\nQ 18.359375 34.515625 30.609375 34.515625 \r\nL 43.21875 34.515625 \r\nL 43.21875 35.40625 \r\nQ 43.21875 41.609375 39.140625 45 \r\nQ 35.0625 48.390625 27.6875 48.390625 \r\nQ 23 48.390625 18.546875 47.265625 \r\nQ 14.109375 46.140625 10.015625 43.890625 \r\nL 10.015625 52.203125 \r\nQ 14.9375 54.109375 19.578125 55.046875 \r\nQ 24.21875 56 28.609375 56 \r\nQ 40.484375 56 46.34375 49.84375 \r\nQ 52.203125 43.703125 52.203125 31.203125 \r\nz\r\n\" id=\"DejaVuSans-97\"/>\r\n       <path d=\"M 41.109375 46.296875 \r\nQ 39.59375 47.171875 37.8125 47.578125 \r\nQ 36.03125 48 33.890625 48 \r\nQ 26.265625 48 22.1875 43.046875 \r\nQ 18.109375 38.09375 18.109375 28.8125 \r\nL 18.109375 0 \r\nL 9.078125 0 \r\nL 9.078125 54.6875 \r\nL 18.109375 54.6875 \r\nL 18.109375 46.1875 \r\nQ 20.953125 51.171875 25.484375 53.578125 \r\nQ 30.03125 56 36.53125 56 \r\nQ 37.453125 56 38.578125 55.875 \r\nQ 39.703125 55.765625 41.0625 55.515625 \r\nz\r\n\" id=\"DejaVuSans-114\"/>\r\n      </defs>\r\n      <g transform=\"translate(188.519844 14.798437)scale(0.1 -0.1)\">\r\n       <use xlink:href=\"#DejaVuSans-89\"/>\r\n       <use x=\"60.880859\" xlink:href=\"#DejaVuSans-101\"/>\r\n       <use x=\"122.404297\" xlink:href=\"#DejaVuSans-97\"/>\r\n       <use x=\"183.683594\" xlink:href=\"#DejaVuSans-114\"/>\r\n      </g>\r\n     </g>\r\n    </g>\r\n   </g>\r\n   <g id=\"matplotlib.axis_2\">\r\n    <g id=\"ytick_1\">\r\n     <g id=\"line2d_3\">\r\n      <defs>\r\n       <path d=\"M 0 0 \r\nL -3.5 0 \r\n\" id=\"m991c8d14c9\" style=\"stroke:#000000;stroke-width:0.8;\"/>\r\n      </defs>\r\n      <g>\r\n       <use style=\"stroke:#000000;stroke-width:0.8;\" x=\"36.679688\" xlink:href=\"#m991c8d14c9\" y=\"186.958125\"/>\r\n      </g>\r\n     </g>\r\n     <g id=\"text_2\">\r\n      <!-- Year -->\r\n      <g transform=\"translate(7.2 190.757344)scale(0.1 -0.1)\">\r\n       <use xlink:href=\"#DejaVuSans-89\"/>\r\n       <use x=\"60.880859\" xlink:href=\"#DejaVuSans-101\"/>\r\n       <use x=\"122.404297\" xlink:href=\"#DejaVuSans-97\"/>\r\n       <use x=\"183.683594\" xlink:href=\"#DejaVuSans-114\"/>\r\n      </g>\r\n     </g>\r\n    </g>\r\n   </g>\r\n   <g id=\"patch_3\">\r\n    <path d=\"M 36.679688 350.038125 \r\nL 36.679688 23.878125 \r\n\" style=\"fill:none;stroke:#000000;stroke-linecap:square;stroke-linejoin:miter;stroke-width:0.8;\"/>\r\n   </g>\r\n   <g id=\"patch_4\">\r\n    <path d=\"M 362.839688 350.038125 \r\nL 362.839688 23.878125 \r\n\" style=\"fill:none;stroke:#000000;stroke-linecap:square;stroke-linejoin:miter;stroke-width:0.8;\"/>\r\n   </g>\r\n   <g id=\"patch_5\">\r\n    <path d=\"M 36.679688 350.038125 \r\nL 362.839688 350.038125 \r\n\" style=\"fill:none;stroke:#000000;stroke-linecap:square;stroke-linejoin:miter;stroke-width:0.8;\"/>\r\n   </g>\r\n   <g id=\"patch_6\">\r\n    <path d=\"M 36.679688 23.878125 \r\nL 362.839688 23.878125 \r\n\" style=\"fill:none;stroke:#000000;stroke-linecap:square;stroke-linejoin:miter;stroke-width:0.8;\"/>\r\n   </g>\r\n  </g>\r\n </g>\r\n <defs>\r\n  <clipPath id=\"p2a57be3267\">\r\n   <rect height=\"326.16\" width=\"326.16\" x=\"36.679688\" y=\"23.878125\"/>\r\n  </clipPath>\r\n </defs>\r\n</svg>\r\n",
                        "text/plain": [
                            "<Figure size 432x432 with 1 Axes>"
                        ]
                    },
                    "metadata": {
                        "needs_background": "light"
                    }
                }
            ],
            "metadata": {}
        },
        {
            "cell_type": "code",
            "execution_count": 34,
            "source": [
                "df.tail"
            ],
            "outputs": [
                {
                    "output_type": "execute_result",
                    "data": {
                        "text/plain": [
                            "<bound method NDFrame.tail of      Year Month Detached Semi Detached Terraced     Flat\n",
                            "0    1995   Jan  161,449        95,898   73,706   64,619\n",
                            "1    1995   Feb  157,449        96,084   73,757   60,359\n",
                            "2    1995   Mar  156,090        94,981   73,571   64,186\n",
                            "3    1995   Apr  156,932        95,193   73,990   65,099\n",
                            "4    1995   May  158,778        96,727   75,063   65,718\n",
                            "..    ...   ...      ...           ...      ...      ...\n",
                            "313  2021   Feb  967,050       619,658  531,345  420,842\n",
                            "314  2021   Mar  981,619       632,562  542,159  428,477\n",
                            "315  2021   Apr  979,694       628,627  537,901  430,238\n",
                            "316  2021   May  989,627       627,693  534,321  423,213\n",
                            "317  2021   Jun  994,785       646,936  555,562  430,707\n",
                            "\n",
                            "[318 rows x 6 columns]>"
                        ]
                    },
                    "metadata": {},
                    "execution_count": 34
                }
            ],
            "metadata": {}
        },
        {
            "cell_type": "code",
            "execution_count": 49,
            "source": [
                "df.corr()\r\n"
            ],
            "outputs": [
                {
                    "output_type": "execute_result",
                    "data": {
                        "text/html": [
                            "<div>\n",
                            "<style scoped>\n",
                            "    .dataframe tbody tr th:only-of-type {\n",
                            "        vertical-align: middle;\n",
                            "    }\n",
                            "\n",
                            "    .dataframe tbody tr th {\n",
                            "        vertical-align: top;\n",
                            "    }\n",
                            "\n",
                            "    .dataframe thead th {\n",
                            "        text-align: right;\n",
                            "    }\n",
                            "</style>\n",
                            "<table border=\"1\" class=\"dataframe\">\n",
                            "  <thead>\n",
                            "    <tr style=\"text-align: right;\">\n",
                            "      <th></th>\n",
                            "      <th>Year</th>\n",
                            "    </tr>\n",
                            "  </thead>\n",
                            "  <tbody>\n",
                            "    <tr>\n",
                            "      <td>Year</td>\n",
                            "      <td>1.0</td>\n",
                            "    </tr>\n",
                            "  </tbody>\n",
                            "</table>\n",
                            "</div>"
                        ],
                        "text/plain": [
                            "      Year\n",
                            "Year   1.0"
                        ]
                    },
                    "metadata": {},
                    "execution_count": 49
                }
            ],
            "metadata": {}
        },
        {
            "cell_type": "code",
            "execution_count": 53,
            "source": [
                "df2 = pd.read_csv(\"D:\\OneDrive\\Documents\\Work\\BS_Updated.csv\")\r\n",
                "df2.shape\r\n",
                "\r\n",
                "df2.head\r\n",
                "\r\n"
            ],
            "outputs": [
                {
                    "output_type": "execute_result",
                    "data": {
                        "text/plain": [
                            "<bound method NDFrame.head of          Price        Date  PostCode      Type New Build Estate Type  \\\n",
                            "0       569000    5/9/2014  CM22 6AA  Detached        No    Freehold   \n",
                            "1       330000   7/10/2014  CM22 6AA     Other        No    Freehold   \n",
                            "2       400000   29/8/2006  CM22 6AA  Detached        No    Freehold   \n",
                            "3       225000   28/2/2002  CM22 6AA  Detached        No    Freehold   \n",
                            "4       600000   18/2/2010  CM22 6AA  Detached        No    Freehold   \n",
                            "...        ...         ...       ...       ...       ...         ...   \n",
                            "30929   215221   21/4/2017       NaN     Other       Yes    Freehold   \n",
                            "30930   258266   21/4/2017       NaN     Other       Yes   Leasehold   \n",
                            "30931   500400  19/12/2019       NaN     Other        No    Freehold   \n",
                            "30932    40000    6/6/2018       NaN     Other        No    Freehold   \n",
                            "30933  3210000   18/9/2020       NaN     Other        No    Freehold   \n",
                            "\n",
                            "      Address Line 1                     Address Line 2             Street  \\\n",
                            "0                NaN                   HILL TOP COTTAGE          MILL ROAD   \n",
                            "1                NaN                      HILL TOP YARD          MILL ROAD   \n",
                            "2                NaN                      HILL TOP YARD          MILL ROAD   \n",
                            "3                NaN                      HILL TOP YARD          MILL ROAD   \n",
                            "4                NaN                         MILL HOUSE          MILL ROAD   \n",
                            "...              ...                                ...                ...   \n",
                            "30929    PLOTS 10-14                            BLOCK 1     SOUTHMILL ROAD   \n",
                            "30930    PLOTS 65-70                            BLOCK 3     SOUTHMILL ROAD   \n",
                            "30931            NaN          BISHOPS STORTFORD STATION       STATION ROAD   \n",
                            "30932            NaN     ELECTRONIC COMMUNICATIONS SITE  TWYFORD BURY LANE   \n",
                            "30933            NaN  PLOTS 57-80 93-95 107-117 125-142    WHITTINGTON WAY   \n",
                            "\n",
                            "      Locality            District         County  \n",
                            "0       HENHAM          UTTLESFORD          ESSEX  \n",
                            "1       HENHAM          UTTLESFORD          ESSEX  \n",
                            "2       HENHAM          UTTLESFORD          ESSEX  \n",
                            "3       HENHAM          UTTLESFORD          ESSEX  \n",
                            "4       HENHAM          UTTLESFORD          ESSEX  \n",
                            "...        ...                 ...            ...  \n",
                            "30929      NaN  EAST HERTFORDSHIRE  HERTFORDSHIRE  \n",
                            "30930      NaN  EAST HERTFORDSHIRE  HERTFORDSHIRE  \n",
                            "30931      NaN  EAST HERTFORDSHIRE  HERTFORDSHIRE  \n",
                            "30932      NaN  EAST HERTFORDSHIRE  HERTFORDSHIRE  \n",
                            "30933      NaN  EAST HERTFORDSHIRE  HERTFORDSHIRE  \n",
                            "\n",
                            "[30934 rows x 12 columns]>"
                        ]
                    },
                    "metadata": {},
                    "execution_count": 53
                }
            ],
            "metadata": {}
        },
        {
            "cell_type": "code",
            "execution_count": null,
            "source": [
                "def plot_corr(df2, size = 12):\r\n",
                "\r\n",
                "    corr = df2.corr()\r\n",
                "    fig, ax = plt.subplots(figsize =(size, size))\r\n",
                "    ax.matshow(corr)\r\n",
                "    plt.xticks(range(len(corr.columns)),corr.columns)\r\n",
                "    plt.yticks(range(len(corr.columns)),corr.columns)\r\n",
                "\r\n",
                "plot_corr(df2)"
            ],
            "outputs": [],
            "metadata": {}
        },
        {
            "cell_type": "code",
            "execution_count": 60,
            "source": [
                "df2.corr()\r\n",
                "\r\n",
                "df2.isnull().values.any()\r\n",
                "\r\n",
                "remap = {\"No\" : 0, \"Yes\" : 1}\r\n"
            ],
            "outputs": [],
            "metadata": {}
        },
        {
            "cell_type": "code",
            "execution_count": 63,
            "source": [
                "df2.head()\r\n",
                "\r\n",
                "df2['New Build']=df2['New Build'].map(remap)"
            ],
            "outputs": [],
            "metadata": {}
        },
        {
            "cell_type": "code",
            "execution_count": null,
            "source": [
                "df2.head()\r\n",
                "\r\n",
                "df2.corr()"
            ],
            "outputs": [],
            "metadata": {}
        },
        {
            "cell_type": "code",
            "execution_count": 76,
            "source": [
                "# Import Data\r\n",
                "\r\n",
                "df2 = pd.read_csv(\"D:\\OneDrive\\Documents\\Work\\BSNumericData.csv\")\r\n",
                "df2.shape\r\n",
                "\r\n",
                "df2.head()"
            ],
            "outputs": [
                {
                    "output_type": "execute_result",
                    "data": {
                        "text/html": [
                            "<div>\n",
                            "<style scoped>\n",
                            "    .dataframe tbody tr th:only-of-type {\n",
                            "        vertical-align: middle;\n",
                            "    }\n",
                            "\n",
                            "    .dataframe tbody tr th {\n",
                            "        vertical-align: top;\n",
                            "    }\n",
                            "\n",
                            "    .dataframe thead th {\n",
                            "        text-align: right;\n",
                            "    }\n",
                            "</style>\n",
                            "<table border=\"1\" class=\"dataframe\">\n",
                            "  <thead>\n",
                            "    <tr style=\"text-align: right;\">\n",
                            "      <th></th>\n",
                            "      <th>Price</th>\n",
                            "      <th>Date</th>\n",
                            "      <th>PostCode</th>\n",
                            "      <th>Type</th>\n",
                            "      <th>New Build</th>\n",
                            "      <th>Estate Type</th>\n",
                            "      <th>Locality</th>\n",
                            "      <th>District</th>\n",
                            "      <th>County</th>\n",
                            "    </tr>\n",
                            "  </thead>\n",
                            "  <tbody>\n",
                            "    <tr>\n",
                            "      <td>0</td>\n",
                            "      <td>569000</td>\n",
                            "      <td>41887</td>\n",
                            "      <td>1</td>\n",
                            "      <td>1</td>\n",
                            "      <td>0</td>\n",
                            "      <td>1</td>\n",
                            "      <td>1</td>\n",
                            "      <td>1</td>\n",
                            "      <td>1</td>\n",
                            "    </tr>\n",
                            "    <tr>\n",
                            "      <td>1</td>\n",
                            "      <td>330000</td>\n",
                            "      <td>41919</td>\n",
                            "      <td>1</td>\n",
                            "      <td>2</td>\n",
                            "      <td>0</td>\n",
                            "      <td>1</td>\n",
                            "      <td>1</td>\n",
                            "      <td>1</td>\n",
                            "      <td>1</td>\n",
                            "    </tr>\n",
                            "    <tr>\n",
                            "      <td>2</td>\n",
                            "      <td>400000</td>\n",
                            "      <td>38958</td>\n",
                            "      <td>1</td>\n",
                            "      <td>1</td>\n",
                            "      <td>0</td>\n",
                            "      <td>1</td>\n",
                            "      <td>1</td>\n",
                            "      <td>1</td>\n",
                            "      <td>1</td>\n",
                            "    </tr>\n",
                            "    <tr>\n",
                            "      <td>3</td>\n",
                            "      <td>225000</td>\n",
                            "      <td>37315</td>\n",
                            "      <td>1</td>\n",
                            "      <td>1</td>\n",
                            "      <td>0</td>\n",
                            "      <td>1</td>\n",
                            "      <td>1</td>\n",
                            "      <td>1</td>\n",
                            "      <td>1</td>\n",
                            "    </tr>\n",
                            "    <tr>\n",
                            "      <td>4</td>\n",
                            "      <td>600000</td>\n",
                            "      <td>40227</td>\n",
                            "      <td>1</td>\n",
                            "      <td>1</td>\n",
                            "      <td>0</td>\n",
                            "      <td>1</td>\n",
                            "      <td>1</td>\n",
                            "      <td>1</td>\n",
                            "      <td>1</td>\n",
                            "    </tr>\n",
                            "  </tbody>\n",
                            "</table>\n",
                            "</div>"
                        ],
                        "text/plain": [
                            "    Price   Date  PostCode  Type  New Build  Estate Type  Locality  District  \\\n",
                            "0  569000  41887         1     1          0            1         1         1   \n",
                            "1  330000  41919         1     2          0            1         1         1   \n",
                            "2  400000  38958         1     1          0            1         1         1   \n",
                            "3  225000  37315         1     1          0            1         1         1   \n",
                            "4  600000  40227         1     1          0            1         1         1   \n",
                            "\n",
                            "   County  \n",
                            "0       1  \n",
                            "1       1  \n",
                            "2       1  \n",
                            "3       1  \n",
                            "4       1  "
                        ]
                    },
                    "metadata": {},
                    "execution_count": 76
                }
            ],
            "metadata": {}
        },
        {
            "cell_type": "code",
            "execution_count": null,
            "source": [
                "def plot_corr(df2, size = 12):\r\n",
                "\r\n",
                "    corr = df2.corr()\r\n",
                "    fig, ax = plt.subplots(figsize =(size, size))\r\n",
                "    ax.matshow(corr)\r\n",
                "    plt.xticks(range(len(corr.columns)),corr.columns)\r\n",
                "    plt.yticks(range(len(corr.columns)),corr.columns)\r\n",
                "\r\n",
                "plot_corr(df2)"
            ],
            "outputs": [],
            "metadata": {}
        },
        {
            "cell_type": "code",
            "execution_count": 79,
            "source": [
                "df2.sort_values('Date')"
            ],
            "outputs": [
                {
                    "output_type": "execute_result",
                    "data": {
                        "text/html": [
                            "<div>\n",
                            "<style scoped>\n",
                            "    .dataframe tbody tr th:only-of-type {\n",
                            "        vertical-align: middle;\n",
                            "    }\n",
                            "\n",
                            "    .dataframe tbody tr th {\n",
                            "        vertical-align: top;\n",
                            "    }\n",
                            "\n",
                            "    .dataframe thead th {\n",
                            "        text-align: right;\n",
                            "    }\n",
                            "</style>\n",
                            "<table border=\"1\" class=\"dataframe\">\n",
                            "  <thead>\n",
                            "    <tr style=\"text-align: right;\">\n",
                            "      <th></th>\n",
                            "      <th>Price</th>\n",
                            "      <th>Date</th>\n",
                            "      <th>PostCode</th>\n",
                            "      <th>Type</th>\n",
                            "      <th>New Build</th>\n",
                            "      <th>Estate Type</th>\n",
                            "      <th>Locality</th>\n",
                            "      <th>District</th>\n",
                            "      <th>County</th>\n",
                            "    </tr>\n",
                            "  </thead>\n",
                            "  <tbody>\n",
                            "    <tr>\n",
                            "      <td>1279</td>\n",
                            "      <td>95000</td>\n",
                            "      <td>34702</td>\n",
                            "      <td>86</td>\n",
                            "      <td>1</td>\n",
                            "      <td>0</td>\n",
                            "      <td>1</td>\n",
                            "      <td>2</td>\n",
                            "      <td>1</td>\n",
                            "      <td>1</td>\n",
                            "    </tr>\n",
                            "    <tr>\n",
                            "      <td>7673</td>\n",
                            "      <td>87000</td>\n",
                            "      <td>34702</td>\n",
                            "      <td>558</td>\n",
                            "      <td>3</td>\n",
                            "      <td>0</td>\n",
                            "      <td>1</td>\n",
                            "      <td>11</td>\n",
                            "      <td>7</td>\n",
                            "      <td>2</td>\n",
                            "    </tr>\n",
                            "    <tr>\n",
                            "      <td>9993</td>\n",
                            "      <td>100000</td>\n",
                            "      <td>34702</td>\n",
                            "      <td>672</td>\n",
                            "      <td>1</td>\n",
                            "      <td>0</td>\n",
                            "      <td>1</td>\n",
                            "      <td>11</td>\n",
                            "      <td>7</td>\n",
                            "      <td>2</td>\n",
                            "    </tr>\n",
                            "    <tr>\n",
                            "      <td>115</td>\n",
                            "      <td>160000</td>\n",
                            "      <td>34704</td>\n",
                            "      <td>6</td>\n",
                            "      <td>1</td>\n",
                            "      <td>0</td>\n",
                            "      <td>1</td>\n",
                            "      <td>1</td>\n",
                            "      <td>1</td>\n",
                            "      <td>1</td>\n",
                            "    </tr>\n",
                            "    <tr>\n",
                            "      <td>4593</td>\n",
                            "      <td>175000</td>\n",
                            "      <td>34704</td>\n",
                            "      <td>311</td>\n",
                            "      <td>1</td>\n",
                            "      <td>0</td>\n",
                            "      <td>1</td>\n",
                            "      <td>8</td>\n",
                            "      <td>1</td>\n",
                            "      <td>1</td>\n",
                            "    </tr>\n",
                            "    <tr>\n",
                            "      <td>...</td>\n",
                            "      <td>...</td>\n",
                            "      <td>...</td>\n",
                            "      <td>...</td>\n",
                            "      <td>...</td>\n",
                            "      <td>...</td>\n",
                            "      <td>...</td>\n",
                            "      <td>...</td>\n",
                            "      <td>...</td>\n",
                            "      <td>...</td>\n",
                            "    </tr>\n",
                            "    <tr>\n",
                            "      <td>20481</td>\n",
                            "      <td>315000</td>\n",
                            "      <td>44351</td>\n",
                            "      <td>1059</td>\n",
                            "      <td>4</td>\n",
                            "      <td>0</td>\n",
                            "      <td>1</td>\n",
                            "      <td>0</td>\n",
                            "      <td>7</td>\n",
                            "      <td>2</td>\n",
                            "    </tr>\n",
                            "    <tr>\n",
                            "      <td>608</td>\n",
                            "      <td>280000</td>\n",
                            "      <td>44355</td>\n",
                            "      <td>45</td>\n",
                            "      <td>1</td>\n",
                            "      <td>0</td>\n",
                            "      <td>1</td>\n",
                            "      <td>2</td>\n",
                            "      <td>1</td>\n",
                            "      <td>1</td>\n",
                            "    </tr>\n",
                            "    <tr>\n",
                            "      <td>15216</td>\n",
                            "      <td>470000</td>\n",
                            "      <td>44358</td>\n",
                            "      <td>904</td>\n",
                            "      <td>1</td>\n",
                            "      <td>0</td>\n",
                            "      <td>1</td>\n",
                            "      <td>0</td>\n",
                            "      <td>7</td>\n",
                            "      <td>2</td>\n",
                            "    </tr>\n",
                            "    <tr>\n",
                            "      <td>30519</td>\n",
                            "      <td>297500</td>\n",
                            "      <td>44361</td>\n",
                            "      <td>1341</td>\n",
                            "      <td>3</td>\n",
                            "      <td>0</td>\n",
                            "      <td>1</td>\n",
                            "      <td>21</td>\n",
                            "      <td>1</td>\n",
                            "      <td>1</td>\n",
                            "    </tr>\n",
                            "    <tr>\n",
                            "      <td>28577</td>\n",
                            "      <td>720000</td>\n",
                            "      <td>44363</td>\n",
                            "      <td>1270</td>\n",
                            "      <td>3</td>\n",
                            "      <td>0</td>\n",
                            "      <td>1</td>\n",
                            "      <td>0</td>\n",
                            "      <td>7</td>\n",
                            "      <td>2</td>\n",
                            "    </tr>\n",
                            "  </tbody>\n",
                            "</table>\n",
                            "<p>30934 rows × 9 columns</p>\n",
                            "</div>"
                        ],
                        "text/plain": [
                            "        Price   Date  PostCode  Type  New Build  Estate Type  Locality  \\\n",
                            "1279    95000  34702        86     1          0            1         2   \n",
                            "7673    87000  34702       558     3          0            1        11   \n",
                            "9993   100000  34702       672     1          0            1        11   \n",
                            "115    160000  34704         6     1          0            1         1   \n",
                            "4593   175000  34704       311     1          0            1         8   \n",
                            "...       ...    ...       ...   ...        ...          ...       ...   \n",
                            "20481  315000  44351      1059     4          0            1         0   \n",
                            "608    280000  44355        45     1          0            1         2   \n",
                            "15216  470000  44358       904     1          0            1         0   \n",
                            "30519  297500  44361      1341     3          0            1        21   \n",
                            "28577  720000  44363      1270     3          0            1         0   \n",
                            "\n",
                            "       District  County  \n",
                            "1279          1       1  \n",
                            "7673          7       2  \n",
                            "9993          7       2  \n",
                            "115           1       1  \n",
                            "4593          1       1  \n",
                            "...         ...     ...  \n",
                            "20481         7       2  \n",
                            "608           1       1  \n",
                            "15216         7       2  \n",
                            "30519         1       1  \n",
                            "28577         7       2  \n",
                            "\n",
                            "[30934 rows x 9 columns]"
                        ]
                    },
                    "metadata": {},
                    "execution_count": 79
                }
            ],
            "metadata": {}
        },
        {
            "cell_type": "code",
            "execution_count": 80,
            "source": [
                "plot_corr(df2)"
            ],
            "outputs": [
                {
                    "output_type": "display_data",
                    "data": {
                        "image/png": "[encoded data removed]",
                        "image/svg+xml": "<?xml version=\"1.0\" encoding=\"utf-8\" standalone=\"no\"?>\r\n<!DOCTYPE svg PUBLIC \"-//W3C//DTD SVG 1.1//EN\"\r\n  \"http://www.w3.org/Graphics/SVG/1.1/DTD/svg11.dtd\">\r\n<!-- Created with matplotlib (https://matplotlib.org/) -->\r\n<svg height=\"632.157031pt\" version=\"1.1\" viewBox=\"0 0 750.332812 632.157031\" width=\"750.332812pt\" xmlns=\"http://www.w3.org/2000/svg\" xmlns:xlink=\"http://www.w3.org/1999/xlink\">\r\n <defs>\r\n  <style type=\"text/css\">\r\n*{stroke-linecap:butt;stroke-linejoin:round;}\r\n  </style>\r\n </defs>\r\n <g id=\"figure_1\">\r\n  <g id=\"patch_1\">\r\n   <path d=\"M 0 632.157031 \r\nL 750.332812 632.157031 \r\nL 750.332812 -0 \r\nL 0 -0 \r\nz\r\n\" style=\"fill:none;\"/>\r\n  </g>\r\n  <g id=\"axes_1\">\r\n   <g id=\"patch_2\">\r\n    <path d=\"M 73.532813 619.078125 \r\nL 743.132812 619.078125 \r\nL 743.132812 23.878125 \r\nL 73.532813 23.878125 \r\nz\r\n\" style=\"fill:#ffffff;\"/>\r\n   </g>\r\n   <g clip-path=\"url(#pb6681f321a)\">\r\n    <image height=\"596\" id=\"image7f6be93cd9\" transform=\"scale(1 -1)translate(0 -596)\" width=\"670\" x=\"73.532813\" xlink:href=\"data:image/png;base64,\r\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\" y=\"-23.078125\"/>\r\n   </g>\r\n   <g id=\"matplotlib.axis_1\">\r\n    <g id=\"xtick_1\">\r\n     <g id=\"line2d_1\">\r\n      <defs>\r\n       <path d=\"M 0 0 \r\nL 0 3.5 \r\n\" id=\"m4fce3ff7f6\" style=\"stroke:#000000;stroke-width:0.8;\"/>\r\n      </defs>\r\n      <g>\r\n       <use style=\"stroke:#000000;stroke-width:0.8;\" x=\"110.732812\" xlink:href=\"#m4fce3ff7f6\" y=\"619.078125\"/>\r\n      </g>\r\n     </g>\r\n     <g id=\"line2d_2\">\r\n      <defs>\r\n       <path d=\"M 0 0 \r\nL 0 -3.5 \r\n\" id=\"m8390ca625f\" style=\"stroke:#000000;stroke-width:0.8;\"/>\r\n      </defs>\r\n      <g>\r\n       <use style=\"stroke:#000000;stroke-width:0.8;\" x=\"110.732812\" xlink:href=\"#m8390ca625f\" y=\"23.878125\"/>\r\n      </g>\r\n     </g>\r\n     <g id=\"text_1\">\r\n      <!-- Price -->\r\n      <defs>\r\n       <path d=\"M 19.671875 64.796875 \r\nL 19.671875 37.40625 \r\nL 32.078125 37.40625 \r\nQ 38.96875 37.40625 42.71875 40.96875 \r\nQ 46.484375 44.53125 46.484375 51.125 \r\nQ 46.484375 57.671875 42.71875 61.234375 \r\nQ 38.96875 64.796875 32.078125 64.796875 \r\nz\r\nM 9.8125 72.90625 \r\nL 32.078125 72.90625 \r\nQ 44.34375 72.90625 50.609375 67.359375 \r\nQ 56.890625 61.8125 56.890625 51.125 \r\nQ 56.890625 40.328125 50.609375 34.8125 \r\nQ 44.34375 29.296875 32.078125 29.296875 \r\nL 19.671875 29.296875 \r\nL 19.671875 0 \r\nL 9.8125 0 \r\nz\r\n\" id=\"DejaVuSans-80\"/>\r\n       <path d=\"M 41.109375 46.296875 \r\nQ 39.59375 47.171875 37.8125 47.578125 \r\nQ 36.03125 48 33.890625 48 \r\nQ 26.265625 48 22.1875 43.046875 \r\nQ 18.109375 38.09375 18.109375 28.8125 \r\nL 18.109375 0 \r\nL 9.078125 0 \r\nL 9.078125 54.6875 \r\nL 18.109375 54.6875 \r\nL 18.109375 46.1875 \r\nQ 20.953125 51.171875 25.484375 53.578125 \r\nQ 30.03125 56 36.53125 56 \r\nQ 37.453125 56 38.578125 55.875 \r\nQ 39.703125 55.765625 41.0625 55.515625 \r\nz\r\n\" id=\"DejaVuSans-114\"/>\r\n       <path d=\"M 9.421875 54.6875 \r\nL 18.40625 54.6875 \r\nL 18.40625 0 \r\nL 9.421875 0 \r\nz\r\nM 9.421875 75.984375 \r\nL 18.40625 75.984375 \r\nL 18.40625 64.59375 \r\nL 9.421875 64.59375 \r\nz\r\n\" id=\"DejaVuSans-105\"/>\r\n       <path d=\"M 48.78125 52.59375 \r\nL 48.78125 44.1875 \r\nQ 44.96875 46.296875 41.140625 47.34375 \r\nQ 37.3125 48.390625 33.40625 48.390625 \r\nQ 24.65625 48.390625 19.8125 42.84375 \r\nQ 14.984375 37.3125 14.984375 27.296875 \r\nQ 14.984375 17.28125 19.8125 11.734375 \r\nQ 24.65625 6.203125 33.40625 6.203125 \r\nQ 37.3125 6.203125 41.140625 7.25 \r\nQ 44.96875 8.296875 48.78125 10.40625 \r\nL 48.78125 2.09375 \r\nQ 45.015625 0.34375 40.984375 -0.53125 \r\nQ 36.96875 -1.421875 32.421875 -1.421875 \r\nQ 20.0625 -1.421875 12.78125 6.34375 \r\nQ 5.515625 14.109375 5.515625 27.296875 \r\nQ 5.515625 40.671875 12.859375 48.328125 \r\nQ 20.21875 56 33.015625 56 \r\nQ 37.15625 56 41.109375 55.140625 \r\nQ 45.0625 54.296875 48.78125 52.59375 \r\nz\r\n\" id=\"DejaVuSans-99\"/>\r\n       <path d=\"M 56.203125 29.59375 \r\nL 56.203125 25.203125 \r\nL 14.890625 25.203125 \r\nQ 15.484375 15.921875 20.484375 11.0625 \r\nQ 25.484375 6.203125 34.421875 6.203125 \r\nQ 39.59375 6.203125 44.453125 7.46875 \r\nQ 49.3125 8.734375 54.109375 11.28125 \r\nL 54.109375 2.78125 \r\nQ 49.265625 0.734375 44.1875 -0.34375 \r\nQ 39.109375 -1.421875 33.890625 -1.421875 \r\nQ 20.796875 -1.421875 13.15625 6.1875 \r\nQ 5.515625 13.8125 5.515625 26.8125 \r\nQ 5.515625 40.234375 12.765625 48.109375 \r\nQ 20.015625 56 32.328125 56 \r\nQ 43.359375 56 49.78125 48.890625 \r\nQ 56.203125 41.796875 56.203125 29.59375 \r\nz\r\nM 47.21875 32.234375 \r\nQ 47.125 39.59375 43.09375 43.984375 \r\nQ 39.0625 48.390625 32.421875 48.390625 \r\nQ 24.90625 48.390625 20.390625 44.140625 \r\nQ 15.875 39.890625 15.1875 32.171875 \r\nz\r\n\" id=\"DejaVuSans-101\"/>\r\n      </defs>\r\n      <g transform=\"translate(98.448437 14.798437)scale(0.1 -0.1)\">\r\n       <use xlink:href=\"#DejaVuSans-80\"/>\r\n       <use x=\"60.287109\" xlink:href=\"#DejaVuSans-114\"/>\r\n       <use x=\"101.400391\" xlink:href=\"#DejaVuSans-105\"/>\r\n       <use x=\"129.183594\" xlink:href=\"#DejaVuSans-99\"/>\r\n       <use x=\"184.164062\" xlink:href=\"#DejaVuSans-101\"/>\r\n      </g>\r\n     </g>\r\n    </g>\r\n    <g id=\"xtick_2\">\r\n     <g id=\"line2d_3\">\r\n      <g>\r\n       <use style=\"stroke:#000000;stroke-width:0.8;\" x=\"185.132812\" xlink:href=\"#m4fce3ff7f6\" y=\"619.078125\"/>\r\n      </g>\r\n     </g>\r\n     <g id=\"line2d_4\">\r\n      <g>\r\n       <use style=\"stroke:#000000;stroke-width:0.8;\" x=\"185.132812\" xlink:href=\"#m8390ca625f\" y=\"23.878125\"/>\r\n      </g>\r\n     </g>\r\n     <g id=\"text_2\">\r\n      <!-- Date -->\r\n      <defs>\r\n       <path d=\"M 19.671875 64.796875 \r\nL 19.671875 8.109375 \r\nL 31.59375 8.109375 \r\nQ 46.6875 8.109375 53.6875 14.9375 \r\nQ 60.6875 21.78125 60.6875 36.53125 \r\nQ 60.6875 51.171875 53.6875 57.984375 \r\nQ 46.6875 64.796875 31.59375 64.796875 \r\nz\r\nM 9.8125 72.90625 \r\nL 30.078125 72.90625 \r\nQ 51.265625 72.90625 61.171875 64.09375 \r\nQ 71.09375 55.28125 71.09375 36.53125 \r\nQ 71.09375 17.671875 61.125 8.828125 \r\nQ 51.171875 0 30.078125 0 \r\nL 9.8125 0 \r\nz\r\n\" id=\"DejaVuSans-68\"/>\r\n       <path d=\"M 34.28125 27.484375 \r\nQ 23.390625 27.484375 19.1875 25 \r\nQ 14.984375 22.515625 14.984375 16.5 \r\nQ 14.984375 11.71875 18.140625 8.90625 \r\nQ 21.296875 6.109375 26.703125 6.109375 \r\nQ 34.1875 6.109375 38.703125 11.40625 \r\nQ 43.21875 16.703125 43.21875 25.484375 \r\nL 43.21875 27.484375 \r\nz\r\nM 52.203125 31.203125 \r\nL 52.203125 0 \r\nL 43.21875 0 \r\nL 43.21875 8.296875 \r\nQ 40.140625 3.328125 35.546875 0.953125 \r\nQ 30.953125 -1.421875 24.3125 -1.421875 \r\nQ 15.921875 -1.421875 10.953125 3.296875 \r\nQ 6 8.015625 6 15.921875 \r\nQ 6 25.140625 12.171875 29.828125 \r\nQ 18.359375 34.515625 30.609375 34.515625 \r\nL 43.21875 34.515625 \r\nL 43.21875 35.40625 \r\nQ 43.21875 41.609375 39.140625 45 \r\nQ 35.0625 48.390625 27.6875 48.390625 \r\nQ 23 48.390625 18.546875 47.265625 \r\nQ 14.109375 46.140625 10.015625 43.890625 \r\nL 10.015625 52.203125 \r\nQ 14.9375 54.109375 19.578125 55.046875 \r\nQ 24.21875 56 28.609375 56 \r\nQ 40.484375 56 46.34375 49.84375 \r\nQ 52.203125 43.703125 52.203125 31.203125 \r\nz\r\n\" id=\"DejaVuSans-97\"/>\r\n       <path d=\"M 18.3125 70.21875 \r\nL 18.3125 54.6875 \r\nL 36.8125 54.6875 \r\nL 36.8125 47.703125 \r\nL 18.3125 47.703125 \r\nL 18.3125 18.015625 \r\nQ 18.3125 11.328125 20.140625 9.421875 \r\nQ 21.96875 7.515625 27.59375 7.515625 \r\nL 36.8125 7.515625 \r\nL 36.8125 0 \r\nL 27.59375 0 \r\nQ 17.1875 0 13.234375 3.875 \r\nQ 9.28125 7.765625 9.28125 18.015625 \r\nL 9.28125 47.703125 \r\nL 2.6875 47.703125 \r\nL 2.6875 54.6875 \r\nL 9.28125 54.6875 \r\nL 9.28125 70.21875 \r\nz\r\n\" id=\"DejaVuSans-116\"/>\r\n      </defs>\r\n      <g transform=\"translate(173.182031 14.798437)scale(0.1 -0.1)\">\r\n       <use xlink:href=\"#DejaVuSans-68\"/>\r\n       <use x=\"77.001953\" xlink:href=\"#DejaVuSans-97\"/>\r\n       <use x=\"138.28125\" xlink:href=\"#DejaVuSans-116\"/>\r\n       <use x=\"177.490234\" xlink:href=\"#DejaVuSans-101\"/>\r\n      </g>\r\n     </g>\r\n    </g>\r\n    <g id=\"xtick_3\">\r\n     <g id=\"line2d_5\">\r\n      <g>\r\n       <use style=\"stroke:#000000;stroke-width:0.8;\" x=\"259.532812\" xlink:href=\"#m4fce3ff7f6\" y=\"619.078125\"/>\r\n      </g>\r\n     </g>\r\n     <g id=\"line2d_6\">\r\n      <g>\r\n       <use style=\"stroke:#000000;stroke-width:0.8;\" x=\"259.532812\" xlink:href=\"#m8390ca625f\" y=\"23.878125\"/>\r\n      </g>\r\n     </g>\r\n     <g id=\"text_3\">\r\n      <!-- PostCode -->\r\n      <defs>\r\n       <path d=\"M 30.609375 48.390625 \r\nQ 23.390625 48.390625 19.1875 42.75 \r\nQ 14.984375 37.109375 14.984375 27.296875 \r\nQ 14.984375 17.484375 19.15625 11.84375 \r\nQ 23.34375 6.203125 30.609375 6.203125 \r\nQ 37.796875 6.203125 41.984375 11.859375 \r\nQ 46.1875 17.53125 46.1875 27.296875 \r\nQ 46.1875 37.015625 41.984375 42.703125 \r\nQ 37.796875 48.390625 30.609375 48.390625 \r\nz\r\nM 30.609375 56 \r\nQ 42.328125 56 49.015625 48.375 \r\nQ 55.71875 40.765625 55.71875 27.296875 \r\nQ 55.71875 13.875 49.015625 6.21875 \r\nQ 42.328125 -1.421875 30.609375 -1.421875 \r\nQ 18.84375 -1.421875 12.171875 6.21875 \r\nQ 5.515625 13.875 5.515625 27.296875 \r\nQ 5.515625 40.765625 12.171875 48.375 \r\nQ 18.84375 56 30.609375 56 \r\nz\r\n\" id=\"DejaVuSans-111\"/>\r\n       <path d=\"M 44.28125 53.078125 \r\nL 44.28125 44.578125 \r\nQ 40.484375 46.53125 36.375 47.5 \r\nQ 32.28125 48.484375 27.875 48.484375 \r\nQ 21.1875 48.484375 17.84375 46.4375 \r\nQ 14.5 44.390625 14.5 40.28125 \r\nQ 14.5 37.15625 16.890625 35.375 \r\nQ 19.28125 33.59375 26.515625 31.984375 \r\nL 29.59375 31.296875 \r\nQ 39.15625 29.25 43.1875 25.515625 \r\nQ 47.21875 21.78125 47.21875 15.09375 \r\nQ 47.21875 7.46875 41.1875 3.015625 \r\nQ 35.15625 -1.421875 24.609375 -1.421875 \r\nQ 20.21875 -1.421875 15.453125 -0.5625 \r\nQ 10.6875 0.296875 5.421875 2 \r\nL 5.421875 11.28125 \r\nQ 10.40625 8.6875 15.234375 7.390625 \r\nQ 20.0625 6.109375 24.8125 6.109375 \r\nQ 31.15625 6.109375 34.5625 8.28125 \r\nQ 37.984375 10.453125 37.984375 14.40625 \r\nQ 37.984375 18.0625 35.515625 20.015625 \r\nQ 33.0625 21.96875 24.703125 23.78125 \r\nL 21.578125 24.515625 \r\nQ 13.234375 26.265625 9.515625 29.90625 \r\nQ 5.8125 33.546875 5.8125 39.890625 \r\nQ 5.8125 47.609375 11.28125 51.796875 \r\nQ 16.75 56 26.8125 56 \r\nQ 31.78125 56 36.171875 55.265625 \r\nQ 40.578125 54.546875 44.28125 53.078125 \r\nz\r\n\" id=\"DejaVuSans-115\"/>\r\n       <path d=\"M 64.40625 67.28125 \r\nL 64.40625 56.890625 \r\nQ 59.421875 61.53125 53.78125 63.8125 \r\nQ 48.140625 66.109375 41.796875 66.109375 \r\nQ 29.296875 66.109375 22.65625 58.46875 \r\nQ 16.015625 50.828125 16.015625 36.375 \r\nQ 16.015625 21.96875 22.65625 14.328125 \r\nQ 29.296875 6.6875 41.796875 6.6875 \r\nQ 48.140625 6.6875 53.78125 8.984375 \r\nQ 59.421875 11.28125 64.40625 15.921875 \r\nL 64.40625 5.609375 \r\nQ 59.234375 2.09375 53.4375 0.328125 \r\nQ 47.65625 -1.421875 41.21875 -1.421875 \r\nQ 24.65625 -1.421875 15.125 8.703125 \r\nQ 5.609375 18.84375 5.609375 36.375 \r\nQ 5.609375 53.953125 15.125 64.078125 \r\nQ 24.65625 74.21875 41.21875 74.21875 \r\nQ 47.75 74.21875 53.53125 72.484375 \r\nQ 59.328125 70.75 64.40625 67.28125 \r\nz\r\n\" id=\"DejaVuSans-67\"/>\r\n       <path d=\"M 45.40625 46.390625 \r\nL 45.40625 75.984375 \r\nL 54.390625 75.984375 \r\nL 54.390625 0 \r\nL 45.40625 0 \r\nL 45.40625 8.203125 \r\nQ 42.578125 3.328125 38.25 0.953125 \r\nQ 33.9375 -1.421875 27.875 -1.421875 \r\nQ 17.96875 -1.421875 11.734375 6.484375 \r\nQ 5.515625 14.40625 5.515625 27.296875 \r\nQ 5.515625 40.1875 11.734375 48.09375 \r\nQ 17.96875 56 27.875 56 \r\nQ 33.9375 56 38.25 53.625 \r\nQ 42.578125 51.265625 45.40625 46.390625 \r\nz\r\nM 14.796875 27.296875 \r\nQ 14.796875 17.390625 18.875 11.75 \r\nQ 22.953125 6.109375 30.078125 6.109375 \r\nQ 37.203125 6.109375 41.296875 11.75 \r\nQ 45.40625 17.390625 45.40625 27.296875 \r\nQ 45.40625 37.203125 41.296875 42.84375 \r\nQ 37.203125 48.484375 30.078125 48.484375 \r\nQ 22.953125 48.484375 18.875 42.84375 \r\nQ 14.796875 37.203125 14.796875 27.296875 \r\nz\r\n\" id=\"DejaVuSans-100\"/>\r\n      </defs>\r\n      <g transform=\"translate(236.094531 14.798437)scale(0.1 -0.1)\">\r\n       <use xlink:href=\"#DejaVuSans-80\"/>\r\n       <use x=\"60.255859\" xlink:href=\"#DejaVuSans-111\"/>\r\n       <use x=\"121.4375\" xlink:href=\"#DejaVuSans-115\"/>\r\n       <use x=\"173.537109\" xlink:href=\"#DejaVuSans-116\"/>\r\n       <use x=\"212.746094\" xlink:href=\"#DejaVuSans-67\"/>\r\n       <use x=\"282.570312\" xlink:href=\"#DejaVuSans-111\"/>\r\n       <use x=\"343.751953\" xlink:href=\"#DejaVuSans-100\"/>\r\n       <use x=\"407.228516\" xlink:href=\"#DejaVuSans-101\"/>\r\n      </g>\r\n     </g>\r\n    </g>\r\n    <g id=\"xtick_4\">\r\n     <g id=\"line2d_7\">\r\n      <g>\r\n       <use style=\"stroke:#000000;stroke-width:0.8;\" x=\"333.932812\" xlink:href=\"#m4fce3ff7f6\" y=\"619.078125\"/>\r\n      </g>\r\n     </g>\r\n     <g id=\"line2d_8\">\r\n      <g>\r\n       <use style=\"stroke:#000000;stroke-width:0.8;\" x=\"333.932812\" xlink:href=\"#m8390ca625f\" y=\"23.878125\"/>\r\n      </g>\r\n     </g>\r\n     <g id=\"text_4\">\r\n      <!-- Type -->\r\n      <defs>\r\n       <path d=\"M -0.296875 72.90625 \r\nL 61.375 72.90625 \r\nL 61.375 64.59375 \r\nL 35.5 64.59375 \r\nL 35.5 0 \r\nL 25.59375 0 \r\nL 25.59375 64.59375 \r\nL -0.296875 64.59375 \r\nz\r\n\" id=\"DejaVuSans-84\"/>\r\n       <path d=\"M 32.171875 -5.078125 \r\nQ 28.375 -14.84375 24.75 -17.8125 \r\nQ 21.140625 -20.796875 15.09375 -20.796875 \r\nL 7.90625 -20.796875 \r\nL 7.90625 -13.28125 \r\nL 13.1875 -13.28125 \r\nQ 16.890625 -13.28125 18.9375 -11.515625 \r\nQ 21 -9.765625 23.484375 -3.21875 \r\nL 25.09375 0.875 \r\nL 2.984375 54.6875 \r\nL 12.5 54.6875 \r\nL 29.59375 11.921875 \r\nL 46.6875 54.6875 \r\nL 56.203125 54.6875 \r\nz\r\n\" id=\"DejaVuSans-121\"/>\r\n       <path d=\"M 18.109375 8.203125 \r\nL 18.109375 -20.796875 \r\nL 9.078125 -20.796875 \r\nL 9.078125 54.6875 \r\nL 18.109375 54.6875 \r\nL 18.109375 46.390625 \r\nQ 20.953125 51.265625 25.265625 53.625 \r\nQ 29.59375 56 35.59375 56 \r\nQ 45.5625 56 51.78125 48.09375 \r\nQ 58.015625 40.1875 58.015625 27.296875 \r\nQ 58.015625 14.40625 51.78125 6.484375 \r\nQ 45.5625 -1.421875 35.59375 -1.421875 \r\nQ 29.59375 -1.421875 25.265625 0.953125 \r\nQ 20.953125 3.328125 18.109375 8.203125 \r\nz\r\nM 48.6875 27.296875 \r\nQ 48.6875 37.203125 44.609375 42.84375 \r\nQ 40.53125 48.484375 33.40625 48.484375 \r\nQ 26.265625 48.484375 22.1875 42.84375 \r\nQ 18.109375 37.203125 18.109375 27.296875 \r\nQ 18.109375 17.390625 22.1875 11.75 \r\nQ 26.265625 6.109375 33.40625 6.109375 \r\nQ 40.53125 6.109375 44.609375 11.75 \r\nQ 48.6875 17.390625 48.6875 27.296875 \r\nz\r\n\" id=\"DejaVuSans-112\"/>\r\n      </defs>\r\n      <g transform=\"translate(321.680469 14.798437)scale(0.1 -0.1)\">\r\n       <use xlink:href=\"#DejaVuSans-84\"/>\r\n       <use x=\"60.849609\" xlink:href=\"#DejaVuSans-121\"/>\r\n       <use x=\"120.029297\" xlink:href=\"#DejaVuSans-112\"/>\r\n       <use x=\"183.505859\" xlink:href=\"#DejaVuSans-101\"/>\r\n      </g>\r\n     </g>\r\n    </g>\r\n    <g id=\"xtick_5\">\r\n     <g id=\"line2d_9\">\r\n      <g>\r\n       <use style=\"stroke:#000000;stroke-width:0.8;\" x=\"408.332812\" xlink:href=\"#m4fce3ff7f6\" y=\"619.078125\"/>\r\n      </g>\r\n     </g>\r\n     <g id=\"line2d_10\">\r\n      <g>\r\n       <use style=\"stroke:#000000;stroke-width:0.8;\" x=\"408.332812\" xlink:href=\"#m8390ca625f\" y=\"23.878125\"/>\r\n      </g>\r\n     </g>\r\n     <g id=\"text_5\">\r\n      <!-- New Build -->\r\n      <defs>\r\n       <path d=\"M 9.8125 72.90625 \r\nL 23.09375 72.90625 \r\nL 55.421875 11.921875 \r\nL 55.421875 72.90625 \r\nL 64.984375 72.90625 \r\nL 64.984375 0 \r\nL 51.703125 0 \r\nL 19.390625 60.984375 \r\nL 19.390625 0 \r\nL 9.8125 0 \r\nz\r\n\" id=\"DejaVuSans-78\"/>\r\n       <path d=\"M 4.203125 54.6875 \r\nL 13.1875 54.6875 \r\nL 24.421875 12.015625 \r\nL 35.59375 54.6875 \r\nL 46.1875 54.6875 \r\nL 57.421875 12.015625 \r\nL 68.609375 54.6875 \r\nL 77.59375 54.6875 \r\nL 63.28125 0 \r\nL 52.6875 0 \r\nL 40.921875 44.828125 \r\nL 29.109375 0 \r\nL 18.5 0 \r\nz\r\n\" id=\"DejaVuSans-119\"/>\r\n       <path id=\"DejaVuSans-32\"/>\r\n       <path d=\"M 19.671875 34.8125 \r\nL 19.671875 8.109375 \r\nL 35.5 8.109375 \r\nQ 43.453125 8.109375 47.28125 11.40625 \r\nQ 51.125 14.703125 51.125 21.484375 \r\nQ 51.125 28.328125 47.28125 31.5625 \r\nQ 43.453125 34.8125 35.5 34.8125 \r\nz\r\nM 19.671875 64.796875 \r\nL 19.671875 42.828125 \r\nL 34.28125 42.828125 \r\nQ 41.5 42.828125 45.03125 45.53125 \r\nQ 48.578125 48.25 48.578125 53.8125 \r\nQ 48.578125 59.328125 45.03125 62.0625 \r\nQ 41.5 64.796875 34.28125 64.796875 \r\nz\r\nM 9.8125 72.90625 \r\nL 35.015625 72.90625 \r\nQ 46.296875 72.90625 52.390625 68.21875 \r\nQ 58.5 63.53125 58.5 54.890625 \r\nQ 58.5 48.1875 55.375 44.234375 \r\nQ 52.25 40.28125 46.1875 39.3125 \r\nQ 53.46875 37.75 57.5 32.78125 \r\nQ 61.53125 27.828125 61.53125 20.40625 \r\nQ 61.53125 10.640625 54.890625 5.3125 \r\nQ 48.25 0 35.984375 0 \r\nL 9.8125 0 \r\nz\r\n\" id=\"DejaVuSans-66\"/>\r\n       <path d=\"M 8.5 21.578125 \r\nL 8.5 54.6875 \r\nL 17.484375 54.6875 \r\nL 17.484375 21.921875 \r\nQ 17.484375 14.15625 20.5 10.265625 \r\nQ 23.53125 6.390625 29.59375 6.390625 \r\nQ 36.859375 6.390625 41.078125 11.03125 \r\nQ 45.3125 15.671875 45.3125 23.6875 \r\nL 45.3125 54.6875 \r\nL 54.296875 54.6875 \r\nL 54.296875 0 \r\nL 45.3125 0 \r\nL 45.3125 8.40625 \r\nQ 42.046875 3.421875 37.71875 1 \r\nQ 33.40625 -1.421875 27.6875 -1.421875 \r\nQ 18.265625 -1.421875 13.375 4.4375 \r\nQ 8.5 10.296875 8.5 21.578125 \r\nz\r\nM 31.109375 56 \r\nz\r\n\" id=\"DejaVuSans-117\"/>\r\n       <path d=\"M 9.421875 75.984375 \r\nL 18.40625 75.984375 \r\nL 18.40625 0 \r\nL 9.421875 0 \r\nz\r\n\" id=\"DejaVuSans-108\"/>\r\n      </defs>\r\n      <g transform=\"translate(383.285937 14.798437)scale(0.1 -0.1)\">\r\n       <use xlink:href=\"#DejaVuSans-78\"/>\r\n       <use x=\"74.804688\" xlink:href=\"#DejaVuSans-101\"/>\r\n       <use x=\"136.328125\" xlink:href=\"#DejaVuSans-119\"/>\r\n       <use x=\"218.115234\" xlink:href=\"#DejaVuSans-32\"/>\r\n       <use x=\"249.902344\" xlink:href=\"#DejaVuSans-66\"/>\r\n       <use x=\"318.505859\" xlink:href=\"#DejaVuSans-117\"/>\r\n       <use x=\"381.884766\" xlink:href=\"#DejaVuSans-105\"/>\r\n       <use x=\"409.667969\" xlink:href=\"#DejaVuSans-108\"/>\r\n       <use x=\"437.451172\" xlink:href=\"#DejaVuSans-100\"/>\r\n      </g>\r\n     </g>\r\n    </g>\r\n    <g id=\"xtick_6\">\r\n     <g id=\"line2d_11\">\r\n      <g>\r\n       <use style=\"stroke:#000000;stroke-width:0.8;\" x=\"482.732812\" xlink:href=\"#m4fce3ff7f6\" y=\"619.078125\"/>\r\n      </g>\r\n     </g>\r\n     <g id=\"line2d_12\">\r\n      <g>\r\n       <use style=\"stroke:#000000;stroke-width:0.8;\" x=\"482.732812\" xlink:href=\"#m8390ca625f\" y=\"23.878125\"/>\r\n      </g>\r\n     </g>\r\n     <g id=\"text_6\">\r\n      <!-- Estate Type -->\r\n      <defs>\r\n       <path d=\"M 9.8125 72.90625 \r\nL 55.90625 72.90625 \r\nL 55.90625 64.59375 \r\nL 19.671875 64.59375 \r\nL 19.671875 43.015625 \r\nL 54.390625 43.015625 \r\nL 54.390625 34.71875 \r\nL 19.671875 34.71875 \r\nL 19.671875 8.296875 \r\nL 56.78125 8.296875 \r\nL 56.78125 0 \r\nL 9.8125 0 \r\nz\r\n\" id=\"DejaVuSans-69\"/>\r\n      </defs>\r\n      <g transform=\"translate(453.066406 14.798437)scale(0.1 -0.1)\">\r\n       <use xlink:href=\"#DejaVuSans-69\"/>\r\n       <use x=\"63.183594\" xlink:href=\"#DejaVuSans-115\"/>\r\n       <use x=\"115.283203\" xlink:href=\"#DejaVuSans-116\"/>\r\n       <use x=\"154.492188\" xlink:href=\"#DejaVuSans-97\"/>\r\n       <use x=\"215.771484\" xlink:href=\"#DejaVuSans-116\"/>\r\n       <use x=\"254.980469\" xlink:href=\"#DejaVuSans-101\"/>\r\n       <use x=\"316.503906\" xlink:href=\"#DejaVuSans-32\"/>\r\n       <use x=\"348.291016\" xlink:href=\"#DejaVuSans-84\"/>\r\n       <use x=\"409.140625\" xlink:href=\"#DejaVuSans-121\"/>\r\n       <use x=\"468.320312\" xlink:href=\"#DejaVuSans-112\"/>\r\n       <use x=\"531.796875\" xlink:href=\"#DejaVuSans-101\"/>\r\n      </g>\r\n     </g>\r\n    </g>\r\n    <g id=\"xtick_7\">\r\n     <g id=\"line2d_13\">\r\n      <g>\r\n       <use style=\"stroke:#000000;stroke-width:0.8;\" x=\"557.132812\" xlink:href=\"#m4fce3ff7f6\" y=\"619.078125\"/>\r\n      </g>\r\n     </g>\r\n     <g id=\"line2d_14\">\r\n      <g>\r\n       <use style=\"stroke:#000000;stroke-width:0.8;\" x=\"557.132812\" xlink:href=\"#m8390ca625f\" y=\"23.878125\"/>\r\n      </g>\r\n     </g>\r\n     <g id=\"text_7\">\r\n      <!-- Locality -->\r\n      <defs>\r\n       <path d=\"M 9.8125 72.90625 \r\nL 19.671875 72.90625 \r\nL 19.671875 8.296875 \r\nL 55.171875 8.296875 \r\nL 55.171875 0 \r\nL 9.8125 0 \r\nz\r\n\" id=\"DejaVuSans-76\"/>\r\n      </defs>\r\n      <g transform=\"translate(537.777344 14.798437)scale(0.1 -0.1)\">\r\n       <use xlink:href=\"#DejaVuSans-76\"/>\r\n       <use x=\"55.697266\" xlink:href=\"#DejaVuSans-111\"/>\r\n       <use x=\"116.878906\" xlink:href=\"#DejaVuSans-99\"/>\r\n       <use x=\"171.859375\" xlink:href=\"#DejaVuSans-97\"/>\r\n       <use x=\"233.138672\" xlink:href=\"#DejaVuSans-108\"/>\r\n       <use x=\"260.921875\" xlink:href=\"#DejaVuSans-105\"/>\r\n       <use x=\"288.705078\" xlink:href=\"#DejaVuSans-116\"/>\r\n       <use x=\"327.914062\" xlink:href=\"#DejaVuSans-121\"/>\r\n      </g>\r\n     </g>\r\n    </g>\r\n    <g id=\"xtick_8\">\r\n     <g id=\"line2d_15\">\r\n      <g>\r\n       <use style=\"stroke:#000000;stroke-width:0.8;\" x=\"631.532812\" xlink:href=\"#m4fce3ff7f6\" y=\"619.078125\"/>\r\n      </g>\r\n     </g>\r\n     <g id=\"line2d_16\">\r\n      <g>\r\n       <use style=\"stroke:#000000;stroke-width:0.8;\" x=\"631.532812\" xlink:href=\"#m8390ca625f\" y=\"23.878125\"/>\r\n      </g>\r\n     </g>\r\n     <g id=\"text_8\">\r\n      <!-- District -->\r\n      <g transform=\"translate(613.575 14.798437)scale(0.1 -0.1)\">\r\n       <use xlink:href=\"#DejaVuSans-68\"/>\r\n       <use x=\"77.001953\" xlink:href=\"#DejaVuSans-105\"/>\r\n       <use x=\"104.785156\" xlink:href=\"#DejaVuSans-115\"/>\r\n       <use x=\"156.884766\" xlink:href=\"#DejaVuSans-116\"/>\r\n       <use x=\"196.09375\" xlink:href=\"#DejaVuSans-114\"/>\r\n       <use x=\"237.207031\" xlink:href=\"#DejaVuSans-105\"/>\r\n       <use x=\"264.990234\" xlink:href=\"#DejaVuSans-99\"/>\r\n       <use x=\"319.970703\" xlink:href=\"#DejaVuSans-116\"/>\r\n      </g>\r\n     </g>\r\n    </g>\r\n    <g id=\"xtick_9\">\r\n     <g id=\"line2d_17\">\r\n      <g>\r\n       <use style=\"stroke:#000000;stroke-width:0.8;\" x=\"705.932812\" xlink:href=\"#m4fce3ff7f6\" y=\"619.078125\"/>\r\n      </g>\r\n     </g>\r\n     <g id=\"line2d_18\">\r\n      <g>\r\n       <use style=\"stroke:#000000;stroke-width:0.8;\" x=\"705.932812\" xlink:href=\"#m8390ca625f\" y=\"23.878125\"/>\r\n      </g>\r\n     </g>\r\n     <g id=\"text_9\">\r\n      <!-- County -->\r\n      <defs>\r\n       <path d=\"M 54.890625 33.015625 \r\nL 54.890625 0 \r\nL 45.90625 0 \r\nL 45.90625 32.71875 \r\nQ 45.90625 40.484375 42.875 44.328125 \r\nQ 39.84375 48.1875 33.796875 48.1875 \r\nQ 26.515625 48.1875 22.3125 43.546875 \r\nQ 18.109375 38.921875 18.109375 30.90625 \r\nL 18.109375 0 \r\nL 9.078125 0 \r\nL 9.078125 54.6875 \r\nL 18.109375 54.6875 \r\nL 18.109375 46.1875 \r\nQ 21.34375 51.125 25.703125 53.5625 \r\nQ 30.078125 56 35.796875 56 \r\nQ 45.21875 56 50.046875 50.171875 \r\nQ 54.890625 44.34375 54.890625 33.015625 \r\nz\r\n\" id=\"DejaVuSans-110\"/>\r\n      </defs>\r\n      <g transform=\"translate(688.125 14.798437)scale(0.1 -0.1)\">\r\n       <use xlink:href=\"#DejaVuSans-67\"/>\r\n       <use x=\"69.824219\" xlink:href=\"#DejaVuSans-111\"/>\r\n       <use x=\"131.005859\" xlink:href=\"#DejaVuSans-117\"/>\r\n       <use x=\"194.384766\" xlink:href=\"#DejaVuSans-110\"/>\r\n       <use x=\"257.763672\" xlink:href=\"#DejaVuSans-116\"/>\r\n       <use x=\"296.972656\" xlink:href=\"#DejaVuSans-121\"/>\r\n      </g>\r\n     </g>\r\n    </g>\r\n   </g>\r\n   <g id=\"matplotlib.axis_2\">\r\n    <g id=\"ytick_1\">\r\n     <g id=\"line2d_19\">\r\n      <defs>\r\n       <path d=\"M 0 0 \r\nL -3.5 0 \r\n\" id=\"mb1a824252b\" style=\"stroke:#000000;stroke-width:0.8;\"/>\r\n      </defs>\r\n      <g>\r\n       <use style=\"stroke:#000000;stroke-width:0.8;\" x=\"73.532813\" xlink:href=\"#mb1a824252b\" y=\"23.878125\"/>\r\n      </g>\r\n     </g>\r\n     <g id=\"text_10\">\r\n      <!-- Price -->\r\n      <g transform=\"translate(41.964063 27.677344)scale(0.1 -0.1)\">\r\n       <use xlink:href=\"#DejaVuSans-80\"/>\r\n       <use x=\"60.287109\" xlink:href=\"#DejaVuSans-114\"/>\r\n       <use x=\"101.400391\" xlink:href=\"#DejaVuSans-105\"/>\r\n       <use x=\"129.183594\" xlink:href=\"#DejaVuSans-99\"/>\r\n       <use x=\"184.164062\" xlink:href=\"#DejaVuSans-101\"/>\r\n      </g>\r\n     </g>\r\n    </g>\r\n    <g id=\"ytick_2\">\r\n     <g id=\"line2d_20\">\r\n      <g>\r\n       <use style=\"stroke:#000000;stroke-width:0.8;\" x=\"73.532813\" xlink:href=\"#mb1a824252b\" y=\"98.278125\"/>\r\n      </g>\r\n     </g>\r\n     <g id=\"text_11\">\r\n      <!-- Date -->\r\n      <g transform=\"translate(42.63125 102.077344)scale(0.1 -0.1)\">\r\n       <use xlink:href=\"#DejaVuSans-68\"/>\r\n       <use x=\"77.001953\" xlink:href=\"#DejaVuSans-97\"/>\r\n       <use x=\"138.28125\" xlink:href=\"#DejaVuSans-116\"/>\r\n       <use x=\"177.490234\" xlink:href=\"#DejaVuSans-101\"/>\r\n      </g>\r\n     </g>\r\n    </g>\r\n    <g id=\"ytick_3\">\r\n     <g id=\"line2d_21\">\r\n      <g>\r\n       <use style=\"stroke:#000000;stroke-width:0.8;\" x=\"73.532813\" xlink:href=\"#mb1a824252b\" y=\"172.678125\"/>\r\n      </g>\r\n     </g>\r\n     <g id=\"text_12\">\r\n      <!-- PostCode -->\r\n      <g transform=\"translate(19.65625 176.477344)scale(0.1 -0.1)\">\r\n       <use xlink:href=\"#DejaVuSans-80\"/>\r\n       <use x=\"60.255859\" xlink:href=\"#DejaVuSans-111\"/>\r\n       <use x=\"121.4375\" xlink:href=\"#DejaVuSans-115\"/>\r\n       <use x=\"173.537109\" xlink:href=\"#DejaVuSans-116\"/>\r\n       <use x=\"212.746094\" xlink:href=\"#DejaVuSans-67\"/>\r\n       <use x=\"282.570312\" xlink:href=\"#DejaVuSans-111\"/>\r\n       <use x=\"343.751953\" xlink:href=\"#DejaVuSans-100\"/>\r\n       <use x=\"407.228516\" xlink:href=\"#DejaVuSans-101\"/>\r\n      </g>\r\n     </g>\r\n    </g>\r\n    <g id=\"ytick_4\">\r\n     <g id=\"line2d_22\">\r\n      <g>\r\n       <use style=\"stroke:#000000;stroke-width:0.8;\" x=\"73.532813\" xlink:href=\"#mb1a824252b\" y=\"247.078125\"/>\r\n      </g>\r\n     </g>\r\n     <g id=\"text_13\">\r\n      <!-- Type -->\r\n      <g transform=\"translate(42.028125 250.877344)scale(0.1 -0.1)\">\r\n       <use xlink:href=\"#DejaVuSans-84\"/>\r\n       <use x=\"60.849609\" xlink:href=\"#DejaVuSans-121\"/>\r\n       <use x=\"120.029297\" xlink:href=\"#DejaVuSans-112\"/>\r\n       <use x=\"183.505859\" xlink:href=\"#DejaVuSans-101\"/>\r\n      </g>\r\n     </g>\r\n    </g>\r\n    <g id=\"ytick_5\">\r\n     <g id=\"line2d_23\">\r\n      <g>\r\n       <use style=\"stroke:#000000;stroke-width:0.8;\" x=\"73.532813\" xlink:href=\"#mb1a824252b\" y=\"321.478125\"/>\r\n      </g>\r\n     </g>\r\n     <g id=\"text_14\">\r\n      <!-- New Build -->\r\n      <g transform=\"translate(16.439063 325.277344)scale(0.1 -0.1)\">\r\n       <use xlink:href=\"#DejaVuSans-78\"/>\r\n       <use x=\"74.804688\" xlink:href=\"#DejaVuSans-101\"/>\r\n       <use x=\"136.328125\" xlink:href=\"#DejaVuSans-119\"/>\r\n       <use x=\"218.115234\" xlink:href=\"#DejaVuSans-32\"/>\r\n       <use x=\"249.902344\" xlink:href=\"#DejaVuSans-66\"/>\r\n       <use x=\"318.505859\" xlink:href=\"#DejaVuSans-117\"/>\r\n       <use x=\"381.884766\" xlink:href=\"#DejaVuSans-105\"/>\r\n       <use x=\"409.667969\" xlink:href=\"#DejaVuSans-108\"/>\r\n       <use x=\"437.451172\" xlink:href=\"#DejaVuSans-100\"/>\r\n      </g>\r\n     </g>\r\n    </g>\r\n    <g id=\"ytick_6\">\r\n     <g id=\"line2d_24\">\r\n      <g>\r\n       <use style=\"stroke:#000000;stroke-width:0.8;\" x=\"73.532813\" xlink:href=\"#mb1a824252b\" y=\"395.878125\"/>\r\n      </g>\r\n     </g>\r\n     <g id=\"text_15\">\r\n      <!-- Estate Type -->\r\n      <g transform=\"translate(7.2 399.677344)scale(0.1 -0.1)\">\r\n       <use xlink:href=\"#DejaVuSans-69\"/>\r\n       <use x=\"63.183594\" xlink:href=\"#DejaVuSans-115\"/>\r\n       <use x=\"115.283203\" xlink:href=\"#DejaVuSans-116\"/>\r\n       <use x=\"154.492188\" xlink:href=\"#DejaVuSans-97\"/>\r\n       <use x=\"215.771484\" xlink:href=\"#DejaVuSans-116\"/>\r\n       <use x=\"254.980469\" xlink:href=\"#DejaVuSans-101\"/>\r\n       <use x=\"316.503906\" xlink:href=\"#DejaVuSans-32\"/>\r\n       <use x=\"348.291016\" xlink:href=\"#DejaVuSans-84\"/>\r\n       <use x=\"409.140625\" xlink:href=\"#DejaVuSans-121\"/>\r\n       <use x=\"468.320312\" xlink:href=\"#DejaVuSans-112\"/>\r\n       <use x=\"531.796875\" xlink:href=\"#DejaVuSans-101\"/>\r\n      </g>\r\n     </g>\r\n    </g>\r\n    <g id=\"ytick_7\">\r\n     <g id=\"line2d_25\">\r\n      <g>\r\n       <use style=\"stroke:#000000;stroke-width:0.8;\" x=\"73.532813\" xlink:href=\"#mb1a824252b\" y=\"470.278125\"/>\r\n      </g>\r\n     </g>\r\n     <g id=\"text_16\">\r\n      <!-- Locality -->\r\n      <g transform=\"translate(27.821875 474.077344)scale(0.1 -0.1)\">\r\n       <use xlink:href=\"#DejaVuSans-76\"/>\r\n       <use x=\"55.697266\" xlink:href=\"#DejaVuSans-111\"/>\r\n       <use x=\"116.878906\" xlink:href=\"#DejaVuSans-99\"/>\r\n       <use x=\"171.859375\" xlink:href=\"#DejaVuSans-97\"/>\r\n       <use x=\"233.138672\" xlink:href=\"#DejaVuSans-108\"/>\r\n       <use x=\"260.921875\" xlink:href=\"#DejaVuSans-105\"/>\r\n       <use x=\"288.705078\" xlink:href=\"#DejaVuSans-116\"/>\r\n       <use x=\"327.914062\" xlink:href=\"#DejaVuSans-121\"/>\r\n      </g>\r\n     </g>\r\n    </g>\r\n    <g id=\"ytick_8\">\r\n     <g id=\"line2d_26\">\r\n      <g>\r\n       <use style=\"stroke:#000000;stroke-width:0.8;\" x=\"73.532813\" xlink:href=\"#mb1a824252b\" y=\"544.678125\"/>\r\n      </g>\r\n     </g>\r\n     <g id=\"text_17\">\r\n      <!-- District -->\r\n      <g transform=\"translate(30.617188 548.477344)scale(0.1 -0.1)\">\r\n       <use xlink:href=\"#DejaVuSans-68\"/>\r\n       <use x=\"77.001953\" xlink:href=\"#DejaVuSans-105\"/>\r\n       <use x=\"104.785156\" xlink:href=\"#DejaVuSans-115\"/>\r\n       <use x=\"156.884766\" xlink:href=\"#DejaVuSans-116\"/>\r\n       <use x=\"196.09375\" xlink:href=\"#DejaVuSans-114\"/>\r\n       <use x=\"237.207031\" xlink:href=\"#DejaVuSans-105\"/>\r\n       <use x=\"264.990234\" xlink:href=\"#DejaVuSans-99\"/>\r\n       <use x=\"319.970703\" xlink:href=\"#DejaVuSans-116\"/>\r\n      </g>\r\n     </g>\r\n    </g>\r\n    <g id=\"ytick_9\">\r\n     <g id=\"line2d_27\">\r\n      <g>\r\n       <use style=\"stroke:#000000;stroke-width:0.8;\" x=\"73.532813\" xlink:href=\"#mb1a824252b\" y=\"619.078125\"/>\r\n      </g>\r\n     </g>\r\n     <g id=\"text_18\">\r\n      <!-- County -->\r\n      <g transform=\"translate(30.917188 622.877344)scale(0.1 -0.1)\">\r\n       <use xlink:href=\"#DejaVuSans-67\"/>\r\n       <use x=\"69.824219\" xlink:href=\"#DejaVuSans-111\"/>\r\n       <use x=\"131.005859\" xlink:href=\"#DejaVuSans-117\"/>\r\n       <use x=\"194.384766\" xlink:href=\"#DejaVuSans-110\"/>\r\n       <use x=\"257.763672\" xlink:href=\"#DejaVuSans-116\"/>\r\n       <use x=\"296.972656\" xlink:href=\"#DejaVuSans-121\"/>\r\n      </g>\r\n     </g>\r\n    </g>\r\n   </g>\r\n   <g id=\"patch_3\">\r\n    <path d=\"M 73.532813 619.078125 \r\nL 73.532813 23.878125 \r\n\" style=\"fill:none;stroke:#000000;stroke-linecap:square;stroke-linejoin:miter;stroke-width:0.8;\"/>\r\n   </g>\r\n   <g id=\"patch_4\">\r\n    <path d=\"M 743.132812 619.078125 \r\nL 743.132812 23.878125 \r\n\" style=\"fill:none;stroke:#000000;stroke-linecap:square;stroke-linejoin:miter;stroke-width:0.8;\"/>\r\n   </g>\r\n   <g id=\"patch_5\">\r\n    <path d=\"M 73.532813 619.078125 \r\nL 743.132812 619.078125 \r\n\" style=\"fill:none;stroke:#000000;stroke-linecap:square;stroke-linejoin:miter;stroke-width:0.8;\"/>\r\n   </g>\r\n   <g id=\"patch_6\">\r\n    <path d=\"M 73.532813 23.878125 \r\nL 743.132812 23.878125 \r\n\" style=\"fill:none;stroke:#000000;stroke-linecap:square;stroke-linejoin:miter;stroke-width:0.8;\"/>\r\n   </g>\r\n  </g>\r\n </g>\r\n <defs>\r\n  <clipPath id=\"pb6681f321a\">\r\n   <rect height=\"595.2\" width=\"669.6\" x=\"73.532813\" y=\"23.878125\"/>\r\n  </clipPath>\r\n </defs>\r\n</svg>\r\n",
                        "text/plain": [
                            "<Figure size 864x864 with 1 Axes>"
                        ]
                    },
                    "metadata": {
                        "needs_background": "light"
                    }
                }
            ],
            "metadata": {}
        },
        {
            "cell_type": "code",
            "execution_count": null,
            "source": [],
            "outputs": [],
            "metadata": {}
        }
    ],
    "metadata": {
        "orig_nbformat": 4,
        "language_info": {
            "name": "python",
            "version": "3.7.4",
            "mimetype": "text/x-python",
            "codemirror_mode": {
                "name": "ipython",
                "version": 3
            },
            "pygments_lexer": "ipython3",
            "nbconvert_exporter": "python",
            "file_extension": ".py"
        },
        "kernelspec": {
            "name": "python3",
            "display_name": "Python 3.7.4 64-bit ('base': conda)"
        },
        "interpreter": {
            "hash": "d184680d63c11f9530e97aa25124323e3c0f63010eabc8489a7b2aa11c338363"
        }
    },
    "nbformat": 4,
    "nbformat_minor": 2
}